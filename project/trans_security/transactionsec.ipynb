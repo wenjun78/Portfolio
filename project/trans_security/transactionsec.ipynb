{
 "cells": [
  {
   "cell_type": "markdown",
   "id": "2ac21883-2dd3-4104-b5d7-12c1149297d7",
   "metadata": {},
   "source": [
    "# Enhancing Transaction Security with A/B Testing and Risk Pattern Analysis"
   ]
  },
  {
   "cell_type": "markdown",
   "id": "1b315e5c-86e0-4874-a3ac-59af361c8583",
   "metadata": {},
   "source": [
    "## Table of Contents\n",
    "1. [Introduction](##1-introduction)\n",
    "2. [Variables](##2-variables)\n",
    "3. [A/B Testing](##3-a/b-testing)\n",
    "4. [Confusion Matrix Analysis](##4-confusion-matrix-analysis)\n",
    "5. [Risk Pattern Analysis](##5-risk-pattern-analysis)\n",
    "6. [Conclusion](##6-conclusion)"
   ]
  },
  {
   "cell_type": "markdown",
   "id": "a9b62160-e3c3-4d42-aa1a-7af480c998fa",
   "metadata": {},
   "source": [
    "## 1. Introduction"
   ]
  },
  {
   "cell_type": "markdown",
   "id": "6292ac06-0d1a-479f-b070-40c62d7e88ec",
   "metadata": {},
   "source": [
    "Transaction security in digital systems is paramount for protecting financial assets and fostering customer trust. This study integrates a comprehensive methodology, leveraging A/B testing, correlation analysis, and risk pattern evaluation, to enhance fraud detection mechanisms and bolster transaction security. The analysis investigates how different verification processes, particularly **Standard Verification** and **Extra Verification**, impact fraud rates and the overall security of digital transactions.\n",
    "\n",
    "A/B testing compares the effectiveness of the two verification methods, while a correlation matrix evaluates relationships among key transaction variables, such as flagged transactions, fraud status, and transaction amounts. Risk pattern metrics, including true positives (TP) and false positives (FP), are analyzed to assess the contribution of various risk indicators to fraud detection accuracy and efficiency. This integrated approach aims to deliver actionable insights to strengthen transaction security while minimizing disruptions to legitimate transactions."
   ]
  },
  {
   "cell_type": "markdown",
   "id": "ee0e831e-647b-4af5-ab86-ee36e0ff5488",
   "metadata": {},
   "source": [
    "## 2. Variables"
   ]
  },
  {
   "cell_type": "code",
   "execution_count": 121,
   "id": "bf0ecbb8-620d-4204-9fc9-d379cdc570b4",
   "metadata": {},
   "outputs": [],
   "source": [
    "import pandas as pd\n",
    "import numpy\n",
    "from IPython.display import display\n",
    "from statsmodels.stats.proportion import proportions_ztest\n",
    "import seaborn as sns\n",
    "import matplotlib.pyplot as plt\n",
    "from sklearn.metrics import accuracy_score, precision_score, recall_score, f1_score, confusion_matrix"
   ]
  },
  {
   "cell_type": "markdown",
   "id": "9ecf34be-bf80-4332-b921-cdd508ee0fc1",
   "metadata": {},
   "source": [
    "The dataset used for this analysis is a synthetic or dummy dataset created for demonstration purposes. It does not reflect real-world scenarios or operational constraints. The dataset consists of transaction-level details, including the following key variables:\n",
    "\n",
    "- **User ID** and **Transaction ID**: Unique identifiers for users and their transactions.\n",
    "\n",
    "- **Transaction Amount**: The monetary value of each transaction.\n",
    "\n",
    "- **Is Flagged**: A binary variable indicating whether a transaction was flagged for review (1 for flagged, 0 otherwise).\n",
    "\n",
    "- **Fraudulent**: A binary variable denoting whether a transaction was confirmed as fraudulent (1 for fraudulent, 0 otherwise).\n",
    "\n",
    "- **Verification Method**: Categorical variable indicating the type of verification applied: \"Standard\" or \"Extra Verification.\"\n",
    "\n",
    "- **Risk Pattern**: A categorical variable describing the specific risk pattern detected during the transaction, such as \"High Velocity Transactions\" or \"Geolocation Mismatch.\"\n",
    "\n",
    "These variables enable a detailed analysis of transaction outcomes and the effectiveness of the applied verification methods."
   ]
  },
  {
   "cell_type": "code",
   "execution_count": 123,
   "id": "531d9cba-b643-4882-8581-cbdbc88bc406",
   "metadata": {},
   "outputs": [
    {
     "name": "stdout",
     "output_type": "stream",
     "text": [
      "    user_id transaction_id  transaction_amount  is_flagged  fraudulent  \\\n",
      "0    user_1          txn_1                1359           0           1   \n",
      "1    user_2          txn_2                 278           0           0   \n",
      "2    user_3          txn_3                 101           0           0   \n",
      "3    user_4          txn_4                1568           0           0   \n",
      "4    user_5          txn_5                 613           0           0   \n",
      "5    user_6          txn_6                 551           0           1   \n",
      "6    user_7          txn_7                 507           0           1   \n",
      "7    user_8          txn_8                 335           0           0   \n",
      "8    user_9          txn_9                1558           0           1   \n",
      "9   user_10         txn_10                 259           1           1   \n",
      "10  user_11         txn_11                1435           0           1   \n",
      "11  user_12         txn_12                1566           0           0   \n",
      "12  user_13         txn_13                1877           1           0   \n",
      "13  user_14         txn_14                1166           1           1   \n",
      "14  user_15         txn_15                 228           1           0   \n",
      "15  user_16         txn_16                1259           0           0   \n",
      "16  user_17         txn_17                 914           0           0   \n",
      "17  user_18         txn_18                 115           0           0   \n",
      "18  user_19         txn_19                 111           1           1   \n",
      "19  user_20         txn_20                 241           0           0   \n",
      "20  user_21         txn_21                 497           0           1   \n",
      "21  user_22         txn_22                 526           1           0   \n",
      "22  user_23         txn_23                1084           1           1   \n",
      "23  user_24         txn_24                1282           1           0   \n",
      "24  user_25         txn_25                 104           0           0   \n",
      "25  user_26         txn_26                1199           0           1   \n",
      "26  user_27         txn_27                 457           0           1   \n",
      "27  user_28         txn_28                1516           0           0   \n",
      "28  user_29         txn_29                1380           1           0   \n",
      "29  user_30         txn_30                1486           0           1   \n",
      "30  user_31         txn_31                1166           0           0   \n",
      "31  user_32         txn_32                 909           1           1   \n",
      "32  user_33         txn_33                 501           1           0   \n",
      "33  user_34         txn_34                 969           1           1   \n",
      "34  user_35         txn_35                1256           0           0   \n",
      "35  user_36         txn_36                 619           1           0   \n",
      "36  user_37         txn_37                1707           0           0   \n",
      "37  user_38         txn_38                1830           1           0   \n",
      "38  user_39         txn_39                  63           1           1   \n",
      "39  user_40         txn_40                1604           0           1   \n",
      "40  user_41         txn_41                1700           1           1   \n",
      "41  user_42         txn_42                 376           1           1   \n",
      "42  user_43         txn_43                1479           1           0   \n",
      "43  user_44         txn_44                 915           0           1   \n",
      "44  user_45         txn_45                 746           1           1   \n",
      "45  user_46         txn_46                 619           0           1   \n",
      "46  user_47         txn_47                 368           1           0   \n",
      "47  user_48         txn_48                 490           1           0   \n",
      "48  user_49         txn_49                1613           1           0   \n",
      "49  user_50         txn_50                 739           1           1   \n",
      "\n",
      "   verification_method                  risk_pattern  \n",
      "0   extra_verification                           NaN  \n",
      "1             standard                           NaN  \n",
      "2             standard                           NaN  \n",
      "3             standard                           NaN  \n",
      "4   extra_verification                           NaN  \n",
      "5   extra_verification                           NaN  \n",
      "6             standard                           NaN  \n",
      "7   extra_verification                           NaN  \n",
      "8             standard                           NaN  \n",
      "9             standard            Invalid IP Address  \n",
      "10  extra_verification                           NaN  \n",
      "11            standard                           NaN  \n",
      "12  extra_verification    High Velocity Transactions  \n",
      "13            standard               Unverified User  \n",
      "14  extra_verification                Fraudulent BIN  \n",
      "15  extra_verification                           NaN  \n",
      "16            standard                           NaN  \n",
      "17  extra_verification                           NaN  \n",
      "18            standard        Multiple Account Usage  \n",
      "19            standard                           NaN  \n",
      "20  extra_verification                           NaN  \n",
      "21  extra_verification          Geolocation Mismatch  \n",
      "22            standard   Unusual Time of Transaction  \n",
      "23  extra_verification      Blacklisted Email Domain  \n",
      "24            standard                           NaN  \n",
      "25            standard                           NaN  \n",
      "26            standard                           NaN  \n",
      "27            standard                           NaN  \n",
      "28  extra_verification        Suspicious Proxy Usage  \n",
      "29            standard                           NaN  \n",
      "30            standard                           NaN  \n",
      "31            standard        Multiple Account Usage  \n",
      "32  extra_verification        Suspicious Proxy Usage  \n",
      "33            standard      Blacklisted Email Domain  \n",
      "34            standard                           NaN  \n",
      "35  extra_verification                  Expired Card  \n",
      "36            standard                           NaN  \n",
      "37  extra_verification    High Velocity Transactions  \n",
      "38            standard          Duplicate Card Usage  \n",
      "39  extra_verification                           NaN  \n",
      "40            standard               Unverified User  \n",
      "41            standard        Multiple Account Usage  \n",
      "42  extra_verification       Repeated Login Attempts  \n",
      "43            standard                           NaN  \n",
      "44            standard   Unusual Time of Transaction  \n",
      "45            standard                           NaN  \n",
      "46  extra_verification                Fraudulent BIN  \n",
      "47  extra_verification  Foreign Currency Transaction  \n",
      "48  extra_verification   Unusual Time of Transaction  \n",
      "49            standard    High Velocity Transactions  \n"
     ]
    }
   ],
   "source": [
    "# Load the dataset\n",
    "file_path = \"C:/Users/Jun/Downloads/A_B_Testing_Data_With_Specific_Risk_Patterns.csv\"  \n",
    "data = pd.read_csv(file_path)\n",
    "\n",
    "# Display the header of the dataset (top 50)\n",
    "print(data.head(50)) \n",
    "\n",
    "# Recreate the DataFrame\n",
    "transaction_data = pd.DataFrame(data)"
   ]
  },
  {
   "cell_type": "markdown",
   "id": "032366e8-3f85-4e7f-ad98-dbd32654027c",
   "metadata": {},
   "source": [
    "## 3. A/B Testing"
   ]
  },
  {
   "cell_type": "markdown",
   "id": "88e38888-ed07-4499-8f65-4b474a44c16a",
   "metadata": {},
   "source": [
    "The A/B testing revealed a striking difference in fraud rates between the two verification methods. The Extra Verification group reduced the fraud rate to **24.38%**, which is a dramatic improvement compared to the **78.88%** fraud rate observed in the Standard Verification group. This represents a **54.5** percentage point reduction in fraud rate when \"Extra Verification\" is implemented.Statistical validation through a two-proportion Z-test confirmed the difference in fraud rates:\n",
    "- Z-Statistic: -17.25\n",
    "- P-Value: 1.20 × $10^{-66}$\n",
    "\n",
    "These results provide compelling evidence that \"Extra Verification\" is more effective in reducing fraudulent transactions and should be considered a superior approach for fraud prevention."
   ]
  },
  {
   "cell_type": "code",
   "execution_count": 125,
   "id": "12ad8941-7b6c-473d-8860-c7fd92e71546",
   "metadata": {},
   "outputs": [
    {
     "data": {
      "text/html": [
       "<style type=\"text/css\">\n",
       "</style>\n",
       "<table id=\"T_319fe\">\n",
       "  <thead>\n",
       "    <tr>\n",
       "      <th id=\"T_319fe_level0_col0\" class=\"col_heading level0 col0\" >verification_method</th>\n",
       "      <th id=\"T_319fe_level0_col1\" class=\"col_heading level0 col1\" >total_transactions</th>\n",
       "      <th id=\"T_319fe_level0_col2\" class=\"col_heading level0 col2\" >total_flagged</th>\n",
       "      <th id=\"T_319fe_level0_col3\" class=\"col_heading level0 col3\" >total_fraudulent</th>\n",
       "      <th id=\"T_319fe_level0_col4\" class=\"col_heading level0 col4\" >fraud_rate</th>\n",
       "      <th id=\"T_319fe_level0_col5\" class=\"col_heading level0 col5\" >group</th>\n",
       "    </tr>\n",
       "  </thead>\n",
       "  <tbody>\n",
       "    <tr>\n",
       "      <td id=\"T_319fe_row0_col0\" class=\"data row0 col0\" >standard</td>\n",
       "      <td id=\"T_319fe_row0_col1\" class=\"data row0 col1\" >516</td>\n",
       "      <td id=\"T_319fe_row0_col2\" class=\"data row0 col2\" >273</td>\n",
       "      <td id=\"T_319fe_row0_col3\" class=\"data row0 col3\" >407</td>\n",
       "      <td id=\"T_319fe_row0_col4\" class=\"data row0 col4\" >0.788760</td>\n",
       "      <td id=\"T_319fe_row0_col5\" class=\"data row0 col5\" >control</td>\n",
       "    </tr>\n",
       "    <tr>\n",
       "      <td id=\"T_319fe_row1_col0\" class=\"data row1 col0\" >extra_verification</td>\n",
       "      <td id=\"T_319fe_row1_col1\" class=\"data row1 col1\" >484</td>\n",
       "      <td id=\"T_319fe_row1_col2\" class=\"data row1 col2\" >258</td>\n",
       "      <td id=\"T_319fe_row1_col3\" class=\"data row1 col3\" >118</td>\n",
       "      <td id=\"T_319fe_row1_col4\" class=\"data row1 col4\" >0.243802</td>\n",
       "      <td id=\"T_319fe_row1_col5\" class=\"data row1 col5\" >treatment</td>\n",
       "    </tr>\n",
       "  </tbody>\n",
       "</table>\n"
      ],
      "text/plain": [
       "<pandas.io.formats.style.Styler at 0x1efaa110d70>"
      ]
     },
     "metadata": {},
     "output_type": "display_data"
    }
   ],
   "source": [
    "# Step 1: Summarize the data for A/B groups\n",
    "summary = transaction_data.groupby(\"verification_method\").agg(\n",
    "    total_transactions=(\"transaction_id\", \"count\"),\n",
    "    total_flagged=(\"is_flagged\", \"sum\"),\n",
    "    total_fraudulent=(\"fraudulent\", \"sum\")\n",
    ").reset_index()\n",
    "\n",
    "# Calculate fraud rates\n",
    "summary[\"fraud_rate\"] = summary[\"total_fraudulent\"] / summary[\"total_transactions\"]\n",
    "\n",
    "# Add a new column for control and treatment\n",
    "summary[\"group\"] = summary[\"verification_method\"].replace({\n",
    "    \"standard\": \"control\",\n",
    "    \"extra_verification\": \"treatment\"\n",
    "})\n",
    "\n",
    "# Sort the DataFrame by the \"group\" column in ascending order\n",
    "summary_sorted = summary.sort_values(by=\"group\", ascending=True).reset_index(drop=True)\n",
    "\n",
    "# Display the sorted DataFrame without the index\n",
    "styled_summary = summary_sorted.style.hide(axis='index')\n",
    "display(styled_summary)"
   ]
  },
  {
   "cell_type": "code",
   "execution_count": 127,
   "id": "545acfbf-4b5c-4b5a-97d8-86b4c55acaac",
   "metadata": {},
   "outputs": [],
   "source": [
    "# Extract data again for robustness\n",
    "fraudulent_counts = summary[\"total_fraudulent\"].values\n",
    "transaction_counts = summary[\"total_transactions\"].values\n",
    "\n",
    "# Perform the two-proportion z-test\n",
    "z_stat, p_value = proportions_ztest(count=fraudulent_counts, nobs=transaction_counts, alternative='two-sided')"
   ]
  },
  {
   "cell_type": "code",
   "execution_count": 129,
   "id": "c378d536-8436-47ce-a49e-44c5fa551a4b",
   "metadata": {},
   "outputs": [
    {
     "data": {
      "text/plain": [
       "-17.245831441666525"
      ]
     },
     "execution_count": 129,
     "metadata": {},
     "output_type": "execute_result"
    }
   ],
   "source": [
    "# Display the z-statistic\n",
    "z_stat"
   ]
  },
  {
   "cell_type": "code",
   "execution_count": 131,
   "id": "4e1ff216-5c8c-4de1-82a3-8f639b8fa9ec",
   "metadata": {},
   "outputs": [
    {
     "data": {
      "text/plain": [
       "1.2026997360898167e-66"
      ]
     },
     "execution_count": 131,
     "metadata": {},
     "output_type": "execute_result"
    }
   ],
   "source": [
    "# Display the p-value\n",
    "p_value"
   ]
  },
  {
   "cell_type": "markdown",
   "id": "ea036d15-01cb-48a8-8223-10ffe78208e4",
   "metadata": {},
   "source": [
    "## 4. Confusion Matrix Analysis"
   ]
  },
  {
   "cell_type": "markdown",
   "id": "042e5d42-608a-436f-98a9-b009917924fc",
   "metadata": {},
   "source": [
    "The confusion matrix reveals that the fraud detection system has a moderate balance between identifying fraudulent and legitimate transactions, with 273 true positives and 252 false positives among flagged transactions, and 217 true negatives and 258 false negatives among unflagged transactions. Key metrics include a recall of 52.00%, indicating moderate success in detecting fraud, and a precision of 51.41%, showing that about half of flagged transactions are truly fraudulent. However, a specificity of 45.68% and accuracy of 49.00% highlight challenges in correctly identifying legitimate transactions, with considerable false positives and missed fraudulent cases, emphasizing the need for model refinement."
   ]
  },
  {
   "cell_type": "code",
   "execution_count": 178,
   "id": "da699c01-41aa-493b-b7de-a988f7c7a710",
   "metadata": {},
   "outputs": [
    {
     "data": {
      "image/png": "[encoded data removed]",
      "text/plain": [
       "<Figure size 800x600 with 2 Axes>"
      ]
     },
     "metadata": {},
     "output_type": "display_data"
    }
   ],
   "source": [
    "# Create confusion matrix for all transactions with \"is_flagged\" acting as predicted\n",
    "actual = transaction_data[\"fraudulent\"]\n",
    "predicted = transaction_data[\"is_flagged\"]  # Flag acts as predicted\n",
    "\n",
    "# Generate confusion matrix\n",
    "cm = confusion_matrix(actual, predicted)\n",
    "\n",
    "# Generate confusion matrix with corrected axis labels and orientation\n",
    "plt.figure(figsize=(8, 6))\n",
    "sns.heatmap(\n",
    "    cm,\n",
    "    annot=True,\n",
    "    fmt=\"d\",\n",
    "    cmap=\"Blues\",\n",
    "    xticklabels=[\"Not Fraud\", \"Fraud\"],\n",
    "    yticklabels=[\"Not Flagged\", \"Flagged\"]\n",
    ")\n",
    "plt.xlabel(\"Actual (Fraudulent)\")\n",
    "plt.ylabel(\"Predicted (Flagged)\")\n",
    "plt.title(\"Confusion Matrix for All Transactions (Corrected Orientation)\")\n",
    "plt.show()"
   ]
  },
  {
   "cell_type": "code",
   "execution_count": 154,
   "id": "39930060-96b2-4823-92fd-b082823773ad",
   "metadata": {},
   "outputs": [
    {
     "data": {
      "text/html": [
       "<style type=\"text/css\">\n",
       "</style>\n",
       "<table id=\"T_6f715\">\n",
       "  <thead>\n",
       "    <tr>\n",
       "      <th id=\"T_6f715_level0_col0\" class=\"col_heading level0 col0\" >Metric</th>\n",
       "      <th id=\"T_6f715_level0_col1\" class=\"col_heading level0 col1\" >Value</th>\n",
       "    </tr>\n",
       "  </thead>\n",
       "  <tbody>\n",
       "    <tr>\n",
       "      <td id=\"T_6f715_row0_col0\" class=\"data row0 col0\" >Accuracy</td>\n",
       "      <td id=\"T_6f715_row0_col1\" class=\"data row0 col1\" >0.490000</td>\n",
       "    </tr>\n",
       "    <tr>\n",
       "      <td id=\"T_6f715_row1_col0\" class=\"data row1 col0\" >Precision</td>\n",
       "      <td id=\"T_6f715_row1_col1\" class=\"data row1 col1\" >0.514124</td>\n",
       "    </tr>\n",
       "    <tr>\n",
       "      <td id=\"T_6f715_row2_col0\" class=\"data row2 col0\" >Recall</td>\n",
       "      <td id=\"T_6f715_row2_col1\" class=\"data row2 col1\" >0.520000</td>\n",
       "    </tr>\n",
       "    <tr>\n",
       "      <td id=\"T_6f715_row3_col0\" class=\"data row3 col0\" >Specificity</td>\n",
       "      <td id=\"T_6f715_row3_col1\" class=\"data row3 col1\" >0.456842</td>\n",
       "    </tr>\n",
       "    <tr>\n",
       "      <td id=\"T_6f715_row4_col0\" class=\"data row4 col0\" >F1 Score</td>\n",
       "      <td id=\"T_6f715_row4_col1\" class=\"data row4 col1\" >0.517045</td>\n",
       "    </tr>\n",
       "  </tbody>\n",
       "</table>\n"
      ],
      "text/plain": [
       "<pandas.io.formats.style.Styler at 0x1efaaf1fda0>"
      ]
     },
     "metadata": {},
     "output_type": "display_data"
    }
   ],
   "source": [
    "# Calculate metrics from the confusion matrix\n",
    "tn, fp, fn, tp = cm.ravel()\n",
    "\n",
    "# Compute additional metrics\n",
    "accuracy = accuracy_score(transaction_data[\"fraudulent\"], transaction_data[\"is_flagged\"])\n",
    "precision = precision_score(transaction_data[\"fraudulent\"], transaction_data[\"is_flagged\"])\n",
    "recall = recall_score(transaction_data[\"fraudulent\"], transaction_data[\"is_flagged\"])\n",
    "f1 = f1_score(transaction_data[\"fraudulent\"], transaction_data[\"is_flagged\"])\n",
    "specificity = tn / (tn + fp)\n",
    "\n",
    "# Create a summary DataFrame for the metrics\n",
    "metrics_df = pd.DataFrame({\n",
    "    \"Metric\": [\"Accuracy\", \"Precision\", \"Recall\", \"Specificity\", \"F1 Score\"],\n",
    "    \"Value\": [accuracy, precision, recall, specificity, f1]\n",
    "})\n",
    "\n",
    "# Hide the index and display the metrics DataFrame\n",
    "styled_df1 = metrics_df.style.hide(axis='index')\n",
    "display(styled_df1)"
   ]
  },
  {
   "cell_type": "markdown",
   "id": "05079b41-5ecf-4e78-ac0b-8a6362daed12",
   "metadata": {},
   "source": [
    "## 5. Risk Pattern Analysis"
   ]
  },
  {
   "cell_type": "markdown",
   "id": "d9a66698-4f4a-42cd-a64f-be92141462a1",
   "metadata": {},
   "source": [
    "The risk pattern analysis focuses on evaluating true positives (TP) and false positives (FP) for each identified risk category. These metrics are selected because they directly assess the ability of risk patterns to identify fraud correctly (TP) and the extent to which legitimate transactions are wrongly flagged as fraudulent (FP). Key findings include:\n",
    "\n",
    "- Risk patterns with high TP counts, such as \"Repeated Login Attempts\" and \"Suspicious Proxy Usage,\" are more reliable in identifying actual fraud.\n",
    "- Patterns with high FP counts, such as \"High Velocity Transactions\" and \"Compromised Device,\" indicate areas where the model may overflag legitimate transactions, leading to unnecessary operational costs.\n",
    "\n",
    "By focusing on TP and FP, the analysis highlights which risk patterns are most effective and which require refinement to reduce false alerts while maintaining high detection rates."
   ]
  },
  {
   "cell_type": "code",
   "execution_count": 138,
   "id": "946e1984-87f8-4f1e-9a7e-8cf0d4ff415c",
   "metadata": {},
   "outputs": [
    {
     "data": {
      "text/html": [
       "<style type=\"text/css\">\n",
       "#T_4dd70_row0_col0, #T_4dd70_row0_col1, #T_4dd70_row0_col2, #T_4dd70_row0_col3 {\n",
       "  background-color: yellow;\n",
       "  font-weight: bold;\n",
       "}\n",
       "</style>\n",
       "<table id=\"T_4dd70\">\n",
       "  <thead>\n",
       "    <tr>\n",
       "      <th id=\"T_4dd70_level0_col0\" class=\"col_heading level0 col0\" >Risk Pattern</th>\n",
       "      <th id=\"T_4dd70_level0_col1\" class=\"col_heading level0 col1\" >Count</th>\n",
       "      <th id=\"T_4dd70_level0_col2\" class=\"col_heading level0 col2\" >TP</th>\n",
       "      <th id=\"T_4dd70_level0_col3\" class=\"col_heading level0 col3\" >FP</th>\n",
       "    </tr>\n",
       "  </thead>\n",
       "  <tbody>\n",
       "    <tr>\n",
       "      <td id=\"T_4dd70_row0_col0\" class=\"data row0 col0\" >Grand Total</td>\n",
       "      <td id=\"T_4dd70_row0_col1\" class=\"data row0 col1\" >531</td>\n",
       "      <td id=\"T_4dd70_row0_col2\" class=\"data row0 col2\" >273</td>\n",
       "      <td id=\"T_4dd70_row0_col3\" class=\"data row0 col3\" >258</td>\n",
       "    </tr>\n",
       "    <tr>\n",
       "      <td id=\"T_4dd70_row1_col0\" class=\"data row1 col0\" >High Velocity Transactions</td>\n",
       "      <td id=\"T_4dd70_row1_col1\" class=\"data row1 col1\" >47</td>\n",
       "      <td id=\"T_4dd70_row1_col2\" class=\"data row1 col2\" >20</td>\n",
       "      <td id=\"T_4dd70_row1_col3\" class=\"data row1 col3\" >27</td>\n",
       "    </tr>\n",
       "    <tr>\n",
       "      <td id=\"T_4dd70_row2_col0\" class=\"data row2 col0\" >Compromised Device</td>\n",
       "      <td id=\"T_4dd70_row2_col1\" class=\"data row2 col1\" >43</td>\n",
       "      <td id=\"T_4dd70_row2_col2\" class=\"data row2 col2\" >21</td>\n",
       "      <td id=\"T_4dd70_row2_col3\" class=\"data row2 col3\" >22</td>\n",
       "    </tr>\n",
       "    <tr>\n",
       "      <td id=\"T_4dd70_row3_col0\" class=\"data row3 col0\" >Multiple Account Usage</td>\n",
       "      <td id=\"T_4dd70_row3_col1\" class=\"data row3 col1\" >41</td>\n",
       "      <td id=\"T_4dd70_row3_col2\" class=\"data row3 col2\" >22</td>\n",
       "      <td id=\"T_4dd70_row3_col3\" class=\"data row3 col3\" >19</td>\n",
       "    </tr>\n",
       "    <tr>\n",
       "      <td id=\"T_4dd70_row4_col0\" class=\"data row4 col0\" >Geolocation Mismatch</td>\n",
       "      <td id=\"T_4dd70_row4_col1\" class=\"data row4 col1\" >41</td>\n",
       "      <td id=\"T_4dd70_row4_col2\" class=\"data row4 col2\" >20</td>\n",
       "      <td id=\"T_4dd70_row4_col3\" class=\"data row4 col3\" >21</td>\n",
       "    </tr>\n",
       "    <tr>\n",
       "      <td id=\"T_4dd70_row5_col0\" class=\"data row5 col0\" >Invalid IP Address</td>\n",
       "      <td id=\"T_4dd70_row5_col1\" class=\"data row5 col1\" >39</td>\n",
       "      <td id=\"T_4dd70_row5_col2\" class=\"data row5 col2\" >18</td>\n",
       "      <td id=\"T_4dd70_row5_col3\" class=\"data row5 col3\" >21</td>\n",
       "    </tr>\n",
       "    <tr>\n",
       "      <td id=\"T_4dd70_row6_col0\" class=\"data row6 col0\" >Blacklisted Email Domain</td>\n",
       "      <td id=\"T_4dd70_row6_col1\" class=\"data row6 col1\" >37</td>\n",
       "      <td id=\"T_4dd70_row6_col2\" class=\"data row6 col2\" >14</td>\n",
       "      <td id=\"T_4dd70_row6_col3\" class=\"data row6 col3\" >23</td>\n",
       "    </tr>\n",
       "    <tr>\n",
       "      <td id=\"T_4dd70_row7_col0\" class=\"data row7 col0\" >Fraudulent BIN</td>\n",
       "      <td id=\"T_4dd70_row7_col1\" class=\"data row7 col1\" >35</td>\n",
       "      <td id=\"T_4dd70_row7_col2\" class=\"data row7 col2\" >14</td>\n",
       "      <td id=\"T_4dd70_row7_col3\" class=\"data row7 col3\" >21</td>\n",
       "    </tr>\n",
       "    <tr>\n",
       "      <td id=\"T_4dd70_row8_col0\" class=\"data row8 col0\" >Repeated Login Attempts</td>\n",
       "      <td id=\"T_4dd70_row8_col1\" class=\"data row8 col1\" >35</td>\n",
       "      <td id=\"T_4dd70_row8_col2\" class=\"data row8 col2\" >22</td>\n",
       "      <td id=\"T_4dd70_row8_col3\" class=\"data row8 col3\" >13</td>\n",
       "    </tr>\n",
       "    <tr>\n",
       "      <td id=\"T_4dd70_row9_col0\" class=\"data row9 col0\" >Unverified User</td>\n",
       "      <td id=\"T_4dd70_row9_col1\" class=\"data row9 col1\" >34</td>\n",
       "      <td id=\"T_4dd70_row9_col2\" class=\"data row9 col2\" >19</td>\n",
       "      <td id=\"T_4dd70_row9_col3\" class=\"data row9 col3\" >15</td>\n",
       "    </tr>\n",
       "    <tr>\n",
       "      <td id=\"T_4dd70_row10_col0\" class=\"data row10 col0\" >Foreign Currency Transaction</td>\n",
       "      <td id=\"T_4dd70_row10_col1\" class=\"data row10 col1\" >32</td>\n",
       "      <td id=\"T_4dd70_row10_col2\" class=\"data row10 col2\" >18</td>\n",
       "      <td id=\"T_4dd70_row10_col3\" class=\"data row10 col3\" >14</td>\n",
       "    </tr>\n",
       "    <tr>\n",
       "      <td id=\"T_4dd70_row11_col0\" class=\"data row11 col0\" >Suspicious Proxy Usage</td>\n",
       "      <td id=\"T_4dd70_row11_col1\" class=\"data row11 col1\" >31</td>\n",
       "      <td id=\"T_4dd70_row11_col2\" class=\"data row11 col2\" >21</td>\n",
       "      <td id=\"T_4dd70_row11_col3\" class=\"data row11 col3\" >10</td>\n",
       "    </tr>\n",
       "    <tr>\n",
       "      <td id=\"T_4dd70_row12_col0\" class=\"data row12 col0\" >Duplicate Card Usage</td>\n",
       "      <td id=\"T_4dd70_row12_col1\" class=\"data row12 col1\" >31</td>\n",
       "      <td id=\"T_4dd70_row12_col2\" class=\"data row12 col2\" >15</td>\n",
       "      <td id=\"T_4dd70_row12_col3\" class=\"data row12 col3\" >16</td>\n",
       "    </tr>\n",
       "    <tr>\n",
       "      <td id=\"T_4dd70_row13_col0\" class=\"data row13 col0\" >Unusual Time of Transaction</td>\n",
       "      <td id=\"T_4dd70_row13_col1\" class=\"data row13 col1\" >29</td>\n",
       "      <td id=\"T_4dd70_row13_col2\" class=\"data row13 col2\" >15</td>\n",
       "      <td id=\"T_4dd70_row13_col3\" class=\"data row13 col3\" >14</td>\n",
       "    </tr>\n",
       "    <tr>\n",
       "      <td id=\"T_4dd70_row14_col0\" class=\"data row14 col0\" >Expired Card</td>\n",
       "      <td id=\"T_4dd70_row14_col1\" class=\"data row14 col1\" >29</td>\n",
       "      <td id=\"T_4dd70_row14_col2\" class=\"data row14 col2\" >17</td>\n",
       "      <td id=\"T_4dd70_row14_col3\" class=\"data row14 col3\" >12</td>\n",
       "    </tr>\n",
       "    <tr>\n",
       "      <td id=\"T_4dd70_row15_col0\" class=\"data row15 col0\" >High Value Transaction</td>\n",
       "      <td id=\"T_4dd70_row15_col1\" class=\"data row15 col1\" >27</td>\n",
       "      <td id=\"T_4dd70_row15_col2\" class=\"data row15 col2\" >17</td>\n",
       "      <td id=\"T_4dd70_row15_col3\" class=\"data row15 col3\" >10</td>\n",
       "    </tr>\n",
       "  </tbody>\n",
       "</table>\n"
      ],
      "text/plain": [
       "<pandas.io.formats.style.Styler at 0x1efaaa51520>"
      ]
     },
     "metadata": {},
     "output_type": "display_data"
    }
   ],
   "source": [
    "# Calculate TP and FP for each risk pattern, sorted by Count and FP\n",
    "risk_pattern_metrics = []\n",
    "\n",
    "# Calculate TP, FP for each risk pattern\n",
    "for pattern in risk_pattern_counts_df[\"Risk Pattern\"]:\n",
    "    subset = transaction_data[transaction_data[\"risk_pattern\"] == pattern]\n",
    "    actual = subset[\"fraudulent\"]\n",
    "    predicted = subset[\"is_flagged\"]\n",
    "    \n",
    "    # Generate confusion matrix\n",
    "    cm_pattern = confusion_matrix(actual, predicted, labels=[0, 1])\n",
    "    \n",
    "    # Assign TP and FP correctly\n",
    "    tp = cm_pattern[1, 1] if cm_pattern.shape == (2, 2) else 0\n",
    "    fp = cm_pattern[0, 1] if cm_pattern.shape == (2, 2) else 0\n",
    "    risk_pattern_metrics.append({\"Risk Pattern\": pattern, \"TP\": tp, \"FP\": fp})\n",
    "\n",
    "# Create a DataFrame with the metrics\n",
    "risk_pattern_metrics_df = pd.DataFrame(risk_pattern_metrics)\n",
    "\n",
    "# Merge the counts with the metrics\n",
    "final_risk_pattern_df = pd.merge(risk_pattern_counts_df, risk_pattern_metrics_df, on=\"Risk Pattern\")\n",
    "\n",
    "# Add a grand total row\n",
    "grand_total = final_risk_pattern_df.sum(numeric_only=True)\n",
    "grand_total[\"Risk Pattern\"] = \"Grand Total\"\n",
    "final_risk_pattern_df = pd.concat([pd.DataFrame([grand_total]), final_risk_pattern_df])\n",
    "\n",
    "# Sort by Count and FP\n",
    "final_risk_pattern_df = final_risk_pattern_df[[\"Risk Pattern\", \"Count\", \"TP\", \"FP\"]]\n",
    "\n",
    "# Reset the index and fix the display for Grand Total\n",
    "final_risk_pattern_df = final_risk_pattern_df.reset_index(drop=True)\n",
    "\n",
    "# Highlight the \"Grand Total\" row for better distinction\n",
    "def highlight_grand_total(row):\n",
    "    if row[\"Risk Pattern\"] == \"Grand Total\":\n",
    "        return ['background-color: yellow; font-weight: bold'] * len(row)\n",
    "    else:\n",
    "        return [''] * len(row)\n",
    "\n",
    "# Apply the styling to the DataFrame\n",
    "styled_df2 = final_risk_pattern_df.style.apply(highlight_grand_total, axis=1)\n",
    "\n",
    "# Display the styled DataFrame\n",
    "display(styled_df2.hide(axis='index'))"
   ]
  },
  {
   "cell_type": "markdown",
   "id": "84a332ad-c1e7-4b20-a942-574c57949082",
   "metadata": {},
   "source": [
    "## 6. Conclusion"
   ]
  },
  {
   "cell_type": "markdown",
   "id": "de13482c-b333-4707-b972-fd6158c2551f",
   "metadata": {},
   "source": [
    "The findings validate the effectiveness of the \"Extra Verification\" mechanism in significantly enhancing transaction security by reducing fraud rates. However, the analysis highlights challenges, including low overall accuracy and high false positive rates for certain risk patterns, which indicate areas for improvement in the fraud detection framework. Recommendations include leveraging advanced machine learning models to refine fraud detection algorithms, optimizing risk pattern rules to reduce false positives, and expanding \"Extra Verification\" to a broader range of transactions. These enhancements will ensure a more robust and efficient transaction security system, balancing fraud prevention with seamless user experiences."
   ]
  }
 ],
 "metadata": {
  "kernelspec": {
   "display_name": "Python 3 (ipykernel)",
   "language": "python",
   "name": "python3"
  },
  "language_info": {
   "codemirror_mode": {
    "name": "ipython",
    "version": 3
   },
   "file_extension": ".py",
   "mimetype": "text/x-python",
   "name": "python",
   "nbconvert_exporter": "python",
   "pygments_lexer": "ipython3",
   "version": "3.12.7"
  }
 },
 "nbformat": 4,
 "nbformat_minor": 5
}
