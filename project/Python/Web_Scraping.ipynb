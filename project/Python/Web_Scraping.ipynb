{
  "nbformat": 4,
  "nbformat_minor": 0,
  "metadata": {
    "colab": {
      "provenance": []
    },
    "kernelspec": {
      "name": "python3",
      "display_name": "Python 3"
    },
    "language_info": {
      "name": "python"
    }
  },
  "cells": [
    {
      "cell_type": "code",
      "execution_count": null,
      "metadata": {
        "id": "BlNifuqqD1YJ"
      },
      "outputs": [],
      "source": [
        "import requests as rq"
      ]
    },
    {
      "cell_type": "code",
      "source": [
        "import bs4"
      ],
      "metadata": {
        "id": "AmEluKL6D5oO"
      },
      "execution_count": null,
      "outputs": []
    },
    {
      "cell_type": "code",
      "source": [
        "import pandas as pd"
      ],
      "metadata": {
        "id": "23XR9FhwD6Od"
      },
      "execution_count": null,
      "outputs": []
    },
    {
      "cell_type": "code",
      "source": [
        "books = []\n",
        "for i in range(1,51):\n",
        "    url  = f\"https://books.toscrape.com/catalogue/page-{i}.html\"\n",
        "    web = rq.get(url)\n",
        "    web = web.content\n",
        "    soup = bs4.BeautifulSoup(web, 'html.parser')\n",
        "    ol = soup.find('ol')\n",
        "    articles = ol.find_all('article',class_='product_pod')\n",
        "\n",
        "    for article in articles:\n",
        "        image=article.find('img')\n",
        "        title = image.attrs['alt']\n",
        "        star = article.find('p')\n",
        "        star = star['class'][1]\n",
        "        price = article.find('p',class_='price_color').text\n",
        "        price = float(price[1:])\n",
        "        books.append([title, price, star])"
      ],
      "metadata": {
        "id": "lZp3ELIjD8mU"
      },
      "execution_count": null,
      "outputs": []
    },
    {
      "cell_type": "code",
      "source": [
        "df= pd.DataFrame(books,columns= ['Title', 'Price','Star Rating'])"
      ],
      "metadata": {
        "id": "nzWBeockD_ol"
      },
      "execution_count": null,
      "outputs": []
    },
    {
      "cell_type": "code",
      "source": [
        "df.index +=1\n",
        "df.to_csv('books.csv', index_label='Index')"
      ],
      "metadata": {
        "id": "0WNaNJA-EBrt"
      },
      "execution_count": null,
      "outputs": []
    }
  ]
}