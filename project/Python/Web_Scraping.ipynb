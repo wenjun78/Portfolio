{
 "cells": [
  {
   "cell_type": "markdown",
   "metadata": {
    "id": "EFFL92DYtAJd"
   },
   "source": [
    "# Web Scraping"
   ]
  },
  {
   "cell_type": "markdown",
   "metadata": {
    "id": "-E4V1fTHtFK3"
   },
   "source": [
    "## Importing Libraries"
   ]
  },
  {
   "cell_type": "code",
   "execution_count": 1,
   "metadata": {
    "id": "BlNifuqqD1YJ"
   },
   "outputs": [],
   "source": [
    "import requests as rq"
   ]
  },
  {
   "cell_type": "code",
   "execution_count": 2,
   "metadata": {
    "id": "AmEluKL6D5oO"
   },
   "outputs": [],
   "source": [
    "import bs4"
   ]
  },
  {
   "cell_type": "code",
   "execution_count": 3,
   "metadata": {
    "id": "23XR9FhwD6Od"
   },
   "outputs": [],
   "source": [
    "import pandas as pd"
   ]
  },
  {
   "cell_type": "markdown",
   "metadata": {
    "id": "Vog8lqMztI59"
   },
   "source": [
    "## Scraping Book Details from an Online Bookstore"
   ]
  },
  {
   "cell_type": "code",
   "execution_count": 4,
   "metadata": {
    "id": "lZp3ELIjD8mU"
   },
   "outputs": [],
   "source": [
    "books = []\n",
    "for i in range(1,51):\n",
    "    url  = f\"https://books.toscrape.com/catalogue/page-{i}.html\"\n",
    "    web = rq.get(url)\n",
    "    web = web.content\n",
    "    soup = bs4.BeautifulSoup(web, 'html.parser')\n",
    "    ol = soup.find('ol')\n",
    "    articles = ol.find_all('article',class_='product_pod')\n",
    "\n",
    "    for article in articles:\n",
    "        image=article.find('img')\n",
    "        title = image.attrs['alt']\n",
    "        star = article.find('p')\n",
    "        star = star['class'][1]\n",
    "        price = article.find('p',class_='price_color').text\n",
    "        price = float(price[1:])\n",
    "        books.append([title, price, star])"
   ]
  },
  {
   "cell_type": "markdown",
   "metadata": {
    "id": "M4bMq3Upul5W"
   },
   "source": [
    "## Creating Data Frame"
   ]
  },
  {
   "cell_type": "code",
   "execution_count": 5,
   "metadata": {
    "id": "nzWBeockD_ol"
   },
   "outputs": [],
   "source": [
    "df= pd.DataFrame(books,columns= ['Title', 'Price','Star Rating'])"
   ]
  },
  {
   "cell_type": "markdown",
   "metadata": {
    "id": "oizHb5lRup83"
   },
   "source": [
    "## Export as .csv file"
   ]
  },
  {
   "cell_type": "code",
   "execution_count": 6,
   "metadata": {
    "id": "0WNaNJA-EBrt"
   },
   "outputs": [],
   "source": [
    "df.index +=1\n",
    "df.to_csv('books.csv', index_label='Index')"
   ]
  }
 ],
 "metadata": {
  "colab": {
   "provenance": []
  },
  "kernelspec": {
   "display_name": "Python 3 (ipykernel)",
   "language": "python",
   "name": "python3"
  },
  "language_info": {
   "codemirror_mode": {
    "name": "ipython",
    "version": 3
   },
   "file_extension": ".py",
   "mimetype": "text/x-python",
   "name": "python",
   "nbconvert_exporter": "python",
   "pygments_lexer": "ipython3",
   "version": "3.11.5"
  }
 },
 "nbformat": 4,
 "nbformat_minor": 1
}
